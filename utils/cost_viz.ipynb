{
 "cells": [
  {
   "cell_type": "code",
   "execution_count": 2,
   "metadata": {},
   "outputs": [],
   "source": [
    "%load_ext autoreload\n",
    "%autoreload 2"
   ]
  },
  {
   "cell_type": "code",
   "execution_count": null,
   "metadata": {},
   "outputs": [
    {
     "ename": "",
     "evalue": "",
     "output_type": "error",
     "traceback": [
      "\u001b[1;31mnotebook controller is DISPOSED. \n",
      "\u001b[1;31mView Jupyter <a href='command:jupyter.viewOutput'>log</a> for further details."
     ]
    }
   ],
   "source": []
  },
  {
   "cell_type": "code",
   "execution_count": 3,
   "metadata": {},
   "outputs": [
    {
     "name": "stdout",
     "output_type": "stream",
     "text": [
      "Requirement already satisfied: openai-cost-logger==0.4.1 in /Users/janewoo/miniconda3/envs/s1mulacra/lib/python3.9/site-packages (0.4.1)\n",
      "Requirement already satisfied: openai in /Users/janewoo/miniconda3/envs/s1mulacra/lib/python3.9/site-packages (from openai-cost-logger==0.4.1) (1.41.1)\n",
      "Requirement already satisfied: pandas in /Users/janewoo/miniconda3/envs/s1mulacra/lib/python3.9/site-packages (from openai-cost-logger==0.4.1) (2.0.3)\n",
      "Requirement already satisfied: matplotlib in /Users/janewoo/miniconda3/envs/s1mulacra/lib/python3.9/site-packages (from openai-cost-logger==0.4.1) (3.7.2)\n",
      "Requirement already satisfied: contourpy>=1.0.1 in /Users/janewoo/miniconda3/envs/s1mulacra/lib/python3.9/site-packages (from matplotlib->openai-cost-logger==0.4.1) (1.1.0)\n",
      "Requirement already satisfied: cycler>=0.10 in /Users/janewoo/miniconda3/envs/s1mulacra/lib/python3.9/site-packages (from matplotlib->openai-cost-logger==0.4.1) (0.11.0)\n",
      "Requirement already satisfied: fonttools>=4.22.0 in /Users/janewoo/miniconda3/envs/s1mulacra/lib/python3.9/site-packages (from matplotlib->openai-cost-logger==0.4.1) (4.42.1)\n",
      "Requirement already satisfied: kiwisolver>=1.0.1 in /Users/janewoo/miniconda3/envs/s1mulacra/lib/python3.9/site-packages (from matplotlib->openai-cost-logger==0.4.1) (1.4.4)\n",
      "Requirement already satisfied: numpy>=1.20 in /Users/janewoo/miniconda3/envs/s1mulacra/lib/python3.9/site-packages (from matplotlib->openai-cost-logger==0.4.1) (1.25.2)\n",
      "Requirement already satisfied: packaging>=20.0 in /Users/janewoo/miniconda3/envs/s1mulacra/lib/python3.9/site-packages (from matplotlib->openai-cost-logger==0.4.1) (23.0)\n",
      "Requirement already satisfied: pillow>=6.2.0 in /Users/janewoo/miniconda3/envs/s1mulacra/lib/python3.9/site-packages (from matplotlib->openai-cost-logger==0.4.1) (8.4.0)\n",
      "Requirement already satisfied: pyparsing<3.1,>=2.3.1 in /Users/janewoo/miniconda3/envs/s1mulacra/lib/python3.9/site-packages (from matplotlib->openai-cost-logger==0.4.1) (3.0.6)\n",
      "Requirement already satisfied: python-dateutil>=2.7 in /Users/janewoo/miniconda3/envs/s1mulacra/lib/python3.9/site-packages (from matplotlib->openai-cost-logger==0.4.1) (2.8.2)\n",
      "Requirement already satisfied: importlib-resources>=3.2.0 in /Users/janewoo/miniconda3/envs/s1mulacra/lib/python3.9/site-packages (from matplotlib->openai-cost-logger==0.4.1) (6.0.1)\n",
      "Requirement already satisfied: anyio<5,>=3.5.0 in /Users/janewoo/miniconda3/envs/s1mulacra/lib/python3.9/site-packages (from openai->openai-cost-logger==0.4.1) (4.2.0)\n",
      "Requirement already satisfied: distro<2,>=1.7.0 in /Users/janewoo/miniconda3/envs/s1mulacra/lib/python3.9/site-packages (from openai->openai-cost-logger==0.4.1) (1.9.0)\n",
      "Requirement already satisfied: httpx<1,>=0.23.0 in /Users/janewoo/miniconda3/envs/s1mulacra/lib/python3.9/site-packages (from openai->openai-cost-logger==0.4.1) (0.26.0)\n",
      "Requirement already satisfied: jiter<1,>=0.4.0 in /Users/janewoo/miniconda3/envs/s1mulacra/lib/python3.9/site-packages (from openai->openai-cost-logger==0.4.1) (0.5.0)\n",
      "Requirement already satisfied: pydantic<3,>=1.9.0 in /Users/janewoo/miniconda3/envs/s1mulacra/lib/python3.9/site-packages (from openai->openai-cost-logger==0.4.1) (2.7.1)\n",
      "Requirement already satisfied: sniffio in /Users/janewoo/miniconda3/envs/s1mulacra/lib/python3.9/site-packages (from openai->openai-cost-logger==0.4.1) (1.3.0)\n",
      "Requirement already satisfied: tqdm>4 in /Users/janewoo/miniconda3/envs/s1mulacra/lib/python3.9/site-packages (from openai->openai-cost-logger==0.4.1) (4.62.3)\n",
      "Requirement already satisfied: typing-extensions<5,>=4.11 in /Users/janewoo/miniconda3/envs/s1mulacra/lib/python3.9/site-packages (from openai->openai-cost-logger==0.4.1) (4.11.0)\n",
      "Requirement already satisfied: pytz>=2020.1 in /Users/janewoo/miniconda3/envs/s1mulacra/lib/python3.9/site-packages (from pandas->openai-cost-logger==0.4.1) (2021.3)\n",
      "Requirement already satisfied: tzdata>=2022.1 in /Users/janewoo/miniconda3/envs/s1mulacra/lib/python3.9/site-packages (from pandas->openai-cost-logger==0.4.1) (2023.3)\n",
      "Requirement already satisfied: idna>=2.8 in /Users/janewoo/miniconda3/envs/s1mulacra/lib/python3.9/site-packages (from anyio<5,>=3.5.0->openai->openai-cost-logger==0.4.1) (3.3)\n",
      "Requirement already satisfied: exceptiongroup>=1.0.2 in /Users/janewoo/miniconda3/envs/s1mulacra/lib/python3.9/site-packages (from anyio<5,>=3.5.0->openai->openai-cost-logger==0.4.1) (1.1.0)\n",
      "Requirement already satisfied: certifi in /Users/janewoo/miniconda3/envs/s1mulacra/lib/python3.9/site-packages (from httpx<1,>=0.23.0->openai->openai-cost-logger==0.4.1) (2021.10.8)\n",
      "Requirement already satisfied: httpcore==1.* in /Users/janewoo/miniconda3/envs/s1mulacra/lib/python3.9/site-packages (from httpx<1,>=0.23.0->openai->openai-cost-logger==0.4.1) (1.0.2)\n",
      "Requirement already satisfied: h11<0.15,>=0.13 in /Users/janewoo/miniconda3/envs/s1mulacra/lib/python3.9/site-packages (from httpcore==1.*->httpx<1,>=0.23.0->openai->openai-cost-logger==0.4.1) (0.14.0)\n",
      "Requirement already satisfied: zipp>=3.1.0 in /Users/janewoo/miniconda3/envs/s1mulacra/lib/python3.9/site-packages (from importlib-resources>=3.2.0->matplotlib->openai-cost-logger==0.4.1) (3.21.0)\n",
      "Requirement already satisfied: annotated-types>=0.4.0 in /Users/janewoo/miniconda3/envs/s1mulacra/lib/python3.9/site-packages (from pydantic<3,>=1.9.0->openai->openai-cost-logger==0.4.1) (0.6.0)\n",
      "Requirement already satisfied: pydantic-core==2.18.2 in /Users/janewoo/miniconda3/envs/s1mulacra/lib/python3.9/site-packages (from pydantic<3,>=1.9.0->openai->openai-cost-logger==0.4.1) (2.18.2)\n",
      "Requirement already satisfied: six>=1.5 in /Users/janewoo/miniconda3/envs/s1mulacra/lib/python3.9/site-packages (from python-dateutil>=2.7->matplotlib->openai-cost-logger==0.4.1) (1.16.0)\n",
      "\n",
      "\u001b[1m[\u001b[0m\u001b[34;49mnotice\u001b[0m\u001b[1;39;49m]\u001b[0m\u001b[39;49m A new release of pip is available: \u001b[0m\u001b[31;49m24.0\u001b[0m\u001b[39;49m -> \u001b[0m\u001b[32;49m25.0\u001b[0m\n",
      "\u001b[1m[\u001b[0m\u001b[34;49mnotice\u001b[0m\u001b[1;39;49m]\u001b[0m\u001b[39;49m To update, run: \u001b[0m\u001b[32;49mpip install --upgrade pip\u001b[0m\n",
      "Note: you may need to restart the kernel to use updated packages.\n"
     ]
    }
   ],
   "source": [
    "%pip install openai-cost-logger==0.4.1"
   ]
  },
  {
   "cell_type": "code",
   "execution_count": 4,
   "metadata": {},
   "outputs": [
    {
     "name": "stdout",
     "output_type": "stream",
     "text": [
      "imported openai-cost-logger\n"
     ]
    }
   ],
   "source": [
    "from openai_cost_logger import OpenAICostLoggerViz"
   ]
  },
  {
   "cell_type": "code",
   "execution_count": 5,
   "metadata": {},
   "outputs": [],
   "source": [
    "log_path = \"../reverie/backend_server/cost-logs/\""
   ]
  },
  {
   "cell_type": "code",
   "execution_count": 6,
   "metadata": {},
   "outputs": [
    {
     "name": "stdout",
     "output_type": "stream",
     "text": [
      "Total cost: 0.334142 (USD)\n"
     ]
    }
   ],
   "source": [
    "OpenAICostLoggerViz.print_total_cost(path=log_path)"
   ]
  },
  {
   "cell_type": "code",
   "execution_count": 7,
   "metadata": {},
   "outputs": [
    {
     "data": {
      "image/png": "[encoded data removed]",
      "text/plain": [
       "<Figure size 640x480 with 1 Axes>"
      ]
     },
     "metadata": {},
     "output_type": "display_data"
    }
   ],
   "source": [
    "OpenAICostLoggerViz.plot_cost_by_day(path=log_path)"
   ]
  },
  {
   "cell_type": "code",
   "execution_count": null,
   "metadata": {},
   "outputs": [
    {
     "ename": "",
     "evalue": "",
     "output_type": "error",
     "traceback": [
      "\u001b[1;31mnotebook controller is DISPOSED. \n",
      "\u001b[1;31mView Jupyter <a href='command:jupyter.viewOutput'>log</a> for further details."
     ]
    }
   ],
   "source": []
  }
 ],
 "metadata": {
  "kernelspec": {
   "display_name": "s1mulacra",
   "language": "python",
   "name": "python3"
  },
  "language_info": {
   "codemirror_mode": {
    "name": "ipython",
    "version": 3
   },
   "file_extension": ".py",
   "mimetype": "text/x-python",
   "name": "python",
   "nbconvert_exporter": "python",
   "pygments_lexer": "ipython3",
   "version": "3.9.18"
  }
 },
 "nbformat": 4,
 "nbformat_minor": 2
}
